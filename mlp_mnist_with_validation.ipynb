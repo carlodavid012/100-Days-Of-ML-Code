{
 "cells": [
  {
   "cell_type": "markdown",
   "metadata": {},
   "source": [
    "### Multi-Layer Perceptron MNIST with Validation"
   ]
  },
  {
   "cell_type": "code",
   "execution_count": 1,
   "metadata": {},
   "outputs": [],
   "source": [
    "# 1. Load and Visualize data\n",
    "# 2. Define a neural network\n",
    "# 3. Train the model\n",
    "# 4. Evaluate the performance on test dataset"
   ]
  },
  {
   "cell_type": "code",
   "execution_count": 2,
   "metadata": {},
   "outputs": [],
   "source": [
    "import torch\n",
    "import numpy as np"
   ]
  },
  {
   "cell_type": "markdown",
   "metadata": {},
   "source": [
    "#### Load and Visualize data"
   ]
  },
  {
   "cell_type": "code",
   "execution_count": 3,
   "metadata": {},
   "outputs": [],
   "source": [
    "from torchvision import datasets\n",
    "import torchvision.transforms as transforms\n",
    "from torch.utils.data.sampler import SubsetRandomSampler\n",
    "\n",
    "num_workers = 0\n",
    "batch_size = 20\n",
    "valid_size = 0.2\n",
    "\n",
    "transform = transforms.ToTensor()\n",
    "\n",
    "train_data = datasets.MNIST('data', train=True, download=True, transform=transform)\n",
    "\n",
    "test_data = datasets.MNIST('data', train=False, download=True, transform=transform)\n",
    "\n",
    "# obtrain training indices\n",
    "num_train = len(train_data)\n",
    "indices = list(range(num_train))\n",
    "np.random.shuffle(indices)\n",
    "split = int(np.floor(valid_size * num_train))\n",
    "train_idx, valid_idx = indices[split:], indices[:split]\n",
    "\n",
    "# define samplers for obtaining training and validation batches\n",
    "train_sampler = SubsetRandomSampler(train_idx)\n",
    "valid_sampler = SubsetRandomSampler(valid_idx)\n",
    "\n",
    "# prepare data loaders\n",
    "train_loader = torch.utils.data.DataLoader(train_data, batch_size=batch_size, sampler=train_sampler, num_workers=num_workers)\n",
    "valid_loader = torch.utils.data.DataLoader(train_data, batch_size=batch_size, sampler=valid_sampler, num_workers=num_workers)\n",
    "test_loader = torch.utils.data.DataLoader(test_data, batch_size=batch_size, num_workers=num_workers)"
   ]
  },
  {
   "cell_type": "markdown",
   "metadata": {},
   "source": [
    "#### Visualize a Batch if Training Data"
   ]
  },
  {
   "cell_type": "code",
   "execution_count": 4,
   "metadata": {},
   "outputs": [
    {
     "data": {
      "image/png": "[encoded data removed]",
      "text/plain": [
       "<matplotlib.figure.Figure at 0x7f14c3700c50>"
      ]
     },
     "metadata": {},
     "output_type": "display_data"
    }
   ],
   "source": [
    "import matplotlib.pyplot as plt\n",
    "%matplotlib inline\n",
    "\n",
    "# obtain one batch of training images\n",
    "dataiter = iter(train_loader)\n",
    "images, labels = dataiter.next()\n",
    "images = images.numpy()\n",
    "\n",
    "# plot the images in batch, along with corresponding labels\n",
    "fig = plt.figure(figsize=(25, 4))\n",
    "for idx in np.arange(20):\n",
    "    ax = fig.add_subplot(2, 20/2, idx+1, xticks=[], yticks=[])\n",
    "    ax.imshow(np.squeeze(images[idx]), cmap='gray')\n",
    "    ax.set_title(str(labels[idx].item()))"
   ]
  },
  {
   "cell_type": "markdown",
   "metadata": {},
   "source": [
    "#### Define the Network Architecture\n"
   ]
  },
  {
   "cell_type": "code",
   "execution_count": 5,
   "metadata": {},
   "outputs": [],
   "source": [
    "from torch import nn, optim\n",
    "import torch.nn.functional as F"
   ]
  },
  {
   "cell_type": "code",
   "execution_count": 6,
   "metadata": {},
   "outputs": [
    {
     "data": {
      "text/plain": [
       "Network(\n",
       "  (fc1): Linear(in_features=784, out_features=512, bias=True)\n",
       "  (fc2): Linear(in_features=512, out_features=512, bias=True)\n",
       "  (fc3): Linear(in_features=512, out_features=10, bias=True)\n",
       "  (dropout): Dropout(p=0.2)\n",
       ")"
      ]
     },
     "execution_count": 6,
     "metadata": {},
     "output_type": "execute_result"
    }
   ],
   "source": [
    "class Network(nn.Module):\n",
    "    def __init__(self):\n",
    "        super().__init__()\n",
    "        \n",
    "        hidden_1 = 512\n",
    "        hidden_2 = 512\n",
    "        self.fc1 = nn.Linear(28 * 28, hidden_1)\n",
    "        self.fc2 = nn.Linear(hidden_1, hidden_2)\n",
    "        self.fc3 = nn.Linear(hidden_2, 10)\n",
    "        self.dropout = nn.Dropout(0.2)\n",
    "        \n",
    "    def forward(self, x):\n",
    "        x = x.view(-1, 28 * 28)\n",
    "        x = F.relu(self.fc1(x))\n",
    "        x = self.dropout(x)\n",
    "        x = F.relu(self.fc2(x))\n",
    "        x = self.dropout(x)\n",
    "        x = self.fc3(x)\n",
    "        return x\n",
    "    \n",
    "model = Network()\n",
    "model"
   ]
  },
  {
   "cell_type": "code",
   "execution_count": 7,
   "metadata": {},
   "outputs": [],
   "source": [
    "# define loss\n",
    "criterion = nn.CrossEntropyLoss()\n",
    "# define optimizer\n",
    "optimizer = optim.SGD(model.parameters(), lr=0.01)\n"
   ]
  },
  {
   "cell_type": "markdown",
   "metadata": {},
   "source": [
    "#### Train the Network"
   ]
  },
  {
   "cell_type": "code",
   "execution_count": 8,
   "metadata": {},
   "outputs": [],
   "source": [
    "# 1. Clear the gradients\n",
    "# 2. Forwards pass\n",
    "# 3. Calculate loss\n",
    "# 4. Backward pass\n",
    "# 5. optimization step\n",
    "# 6. Update average training loss"
   ]
  },
  {
   "cell_type": "code",
   "execution_count": 10,
   "metadata": {},
   "outputs": [
    {
     "name": "stdout",
     "output_type": "stream",
     "text": [
      "Epoch: 1 \tTraining Loss: 0.284437 \tValidation Loss: 0.059595\n",
      "Validation loss decreased (inf --> 0.059595), saving model ...\n",
      "Epoch: 2 \tTraining Loss: 0.226962 \tValidation Loss: 0.048655\n",
      "Validation loss decreased (0.059595 --> 0.048655), saving model ...\n",
      "Epoch: 3 \tTraining Loss: 0.186444 \tValidation Loss: 0.041765\n",
      "Validation loss decreased (0.048655 --> 0.041765), saving model ...\n",
      "Epoch: 4 \tTraining Loss: 0.158884 \tValidation Loss: 0.037206\n",
      "Validation loss decreased (0.041765 --> 0.037206), saving model ...\n",
      "Epoch: 5 \tTraining Loss: 0.137609 \tValidation Loss: 0.032738\n",
      "Validation loss decreased (0.037206 --> 0.032738), saving model ...\n",
      "Epoch: 6 \tTraining Loss: 0.123785 \tValidation Loss: 0.030007\n",
      "Validation loss decreased (0.032738 --> 0.030007), saving model ...\n",
      "Epoch: 7 \tTraining Loss: 0.109513 \tValidation Loss: 0.028166\n",
      "Validation loss decreased (0.030007 --> 0.028166), saving model ...\n",
      "Epoch: 8 \tTraining Loss: 0.099745 \tValidation Loss: 0.025637\n",
      "Validation loss decreased (0.028166 --> 0.025637), saving model ...\n",
      "Epoch: 9 \tTraining Loss: 0.090415 \tValidation Loss: 0.024140\n",
      "Validation loss decreased (0.025637 --> 0.024140), saving model ...\n",
      "Epoch: 10 \tTraining Loss: 0.082282 \tValidation Loss: 0.022827\n",
      "Validation loss decreased (0.024140 --> 0.022827), saving model ...\n",
      "Epoch: 11 \tTraining Loss: 0.076340 \tValidation Loss: 0.021754\n",
      "Validation loss decreased (0.022827 --> 0.021754), saving model ...\n",
      "Epoch: 12 \tTraining Loss: 0.069974 \tValidation Loss: 0.020848\n",
      "Validation loss decreased (0.021754 --> 0.020848), saving model ...\n",
      "Epoch: 13 \tTraining Loss: 0.065834 \tValidation Loss: 0.019946\n",
      "Validation loss decreased (0.020848 --> 0.019946), saving model ...\n",
      "Epoch: 14 \tTraining Loss: 0.061062 \tValidation Loss: 0.019915\n",
      "Validation loss decreased (0.019946 --> 0.019915), saving model ...\n",
      "Epoch: 15 \tTraining Loss: 0.056406 \tValidation Loss: 0.018542\n",
      "Validation loss decreased (0.019915 --> 0.018542), saving model ...\n",
      "Epoch: 16 \tTraining Loss: 0.052844 \tValidation Loss: 0.018045\n",
      "Validation loss decreased (0.018542 --> 0.018045), saving model ...\n",
      "Epoch: 17 \tTraining Loss: 0.050615 \tValidation Loss: 0.017747\n",
      "Validation loss decreased (0.018045 --> 0.017747), saving model ...\n",
      "Epoch: 18 \tTraining Loss: 0.045913 \tValidation Loss: 0.017242\n",
      "Validation loss decreased (0.017747 --> 0.017242), saving model ...\n",
      "Epoch: 19 \tTraining Loss: 0.044441 \tValidation Loss: 0.016862\n",
      "Validation loss decreased (0.017242 --> 0.016862), saving model ...\n",
      "Epoch: 20 \tTraining Loss: 0.041873 \tValidation Loss: 0.016937\n"
     ]
    }
   ],
   "source": [
    "epochs = 20\n",
    "\n",
    "# initialize tracker for minimum validation loss\n",
    "valid_loss_min = np.Inf\n",
    "\n",
    "for e in range(epochs):\n",
    "    train_loss = 0.0\n",
    "    valid_loss = 0.0\n",
    "    \n",
    "    model.train()\n",
    "    for images, labels in train_loader:\n",
    "        optimizer.zero_grad()\n",
    "        output = model(images)\n",
    "        loss = criterion(output, labels)\n",
    "        loss.backward()\n",
    "        optimizer.step()\n",
    "        train_loss += loss.item()*images.size(0)\n",
    "    \n",
    "    \n",
    "    model.eval()\n",
    "    for images, labels in valid_loader:\n",
    "        output = model(images)\n",
    "        loss = criterion(output, labels)\n",
    "        valid_loss += loss.item()*images.size(0)\n",
    "    \n",
    "    \n",
    "    train_loss = train_loss/len(train_loader.dataset)\n",
    "    valid_loss = valid_loss/len(valid_loader.dataset)\n",
    "    \n",
    "    print('Epoch: {} \\tTraining Loss: {:.6f} \\tValidation Loss: {:.6f}'.format(\n",
    "        e+1, \n",
    "        train_loss, \n",
    "        valid_loss))\n",
    "    \n",
    "    # save model if validation loss has decreased\n",
    "    if valid_loss <= valid_loss_min:\n",
    "        print('Validation loss decreased ({:.6f} --> {:.6f}), saving model ...'.format(\n",
    "            valid_loss_min,\n",
    "            valid_loss))\n",
    "        torch.save(model.state_dict(), 'model.pt')\n",
    "        valid_loss_min = valid_loss\n",
    "    \n",
    "    "
   ]
  },
  {
   "cell_type": "code",
   "execution_count": 20,
   "metadata": {},
   "outputs": [],
   "source": [
    "model.load_state_dict(torch.load('model.pt'))"
   ]
  },
  {
   "cell_type": "markdown",
   "metadata": {},
   "source": [
    "#### Test the Trained Network"
   ]
  },
  {
   "cell_type": "code",
   "execution_count": 22,
   "metadata": {},
   "outputs": [
    {
     "name": "stdout",
     "output_type": "stream",
     "text": [
      "Test Loss: 0.071090\n",
      "\n",
      "Test Accuracy of     0: 98% (970/980)\n",
      "Test Accuracy of     1: 99% (1126/1135)\n",
      "Test Accuracy of     2: 97% (1007/1032)\n",
      "Test Accuracy of     3: 98% (990/1010)\n",
      "Test Accuracy of     4: 97% (955/982)\n",
      "Test Accuracy of     5: 97% (870/892)\n",
      "Test Accuracy of     6: 98% (940/958)\n",
      "Test Accuracy of     7: 97% (999/1028)\n",
      "Test Accuracy of     8: 97% (946/974)\n",
      "Test Accuracy of     9: 96% (975/1009)\n",
      "\n",
      "Test Accuracy (Overall): 97% (9778/10000)\n"
     ]
    }
   ],
   "source": [
    "# initialize lists to monitor test loss and accuracy\n",
    "test_loss = 0.0\n",
    "class_correct = list(0. for i in range(10))\n",
    "class_total = list(0. for i in range(10))\n",
    "\n",
    "model.eval()\n",
    "\n",
    "for images, labels in test_loader:\n",
    "    # forward pass\n",
    "    output = model(images)\n",
    "    # calculate loss\n",
    "    loss = criterion(output, labels)\n",
    "    # update test loss\n",
    "    test_loss += loss.item()*images.size(0)\n",
    "    # convert output probabilities to predicted class\n",
    "    _, pred = torch.max(output, 1)\n",
    "    # compare predictions to true label\n",
    "    correct = np.squeeze(pred.eq(labels.data.view_as(pred)))\n",
    "    # calculate test accuracy for each object class\n",
    "    for i in range(len(labels)):\n",
    "        label = labels.data[i]\n",
    "        class_correct[label] += correct[i].item()\n",
    "        class_total[label] += 1\n",
    "\n",
    "# calculate and print avg test loss\n",
    "test_loss = test_loss/len(test_loader.dataset)\n",
    "print('Test Loss: {:.6f}\\n'.format(test_loss))\n",
    "\n",
    "for i in range(10):\n",
    "    if class_total[i] > 0:\n",
    "        print('Test Accuracy of %5s: %2d%% (%2d/%2d)' % (\n",
    "            str(i), 100 * class_correct[i] / class_total[i],\n",
    "            np.sum(class_correct[i]), np.sum(class_total[i])))\n",
    "    else:\n",
    "        print('Test Accuracy of %5s: N/A (no training examples)' % (classes[i]))\n",
    "\n",
    "print('\\nTest Accuracy (Overall): %2d%% (%2d/%2d)' % (\n",
    "    100. * np.sum(class_correct) / np.sum(class_total),\n",
    "    np.sum(class_correct), np.sum(class_total)))\n"
   ]
  },
  {
   "cell_type": "code",
   "execution_count": null,
   "metadata": {},
   "outputs": [],
   "source": []
  }
 ],
 "metadata": {
  "kernelspec": {
   "display_name": "Python 3",
   "language": "python",
   "name": "python3"
  },
  "language_info": {
   "codemirror_mode": {
    "name": "ipython",
    "version": 3
   },
   "file_extension": ".py",
   "mimetype": "text/x-python",
   "name": "python",
   "nbconvert_exporter": "python",
   "pygments_lexer": "ipython3",
   "version": "3.6.3"
  }
 },
 "nbformat": 4,
 "nbformat_minor": 2
}
