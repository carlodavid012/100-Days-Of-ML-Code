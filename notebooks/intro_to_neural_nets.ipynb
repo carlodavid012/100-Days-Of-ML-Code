{
  "nbformat": 4,
  "nbformat_minor": 0,
  "metadata": {
    "colab": {
      "name": "intro_to_neural_nets.ipynb",
      "version": "0.3.2",
      "provenance": []
    },
    "kernelspec": {
      "name": "python3",
      "display_name": "Python 3"
    },
    "accelerator": "GPU"
  },
  "cells": [
    {
      "metadata": {
        "id": "UKlA5kLqxF3f",
        "colab_type": "code",
        "colab": {}
      },
      "cell_type": "code",
      "source": [
        "# http://pytorch.org/\n",
        "from os import path\n",
        "from wheel.pep425tags import get_abbr_impl, get_impl_ver, get_abi_tag\n",
        "platform = '{}{}-{}'.format(get_abbr_impl(), get_impl_ver(), get_abi_tag())\n",
        "\n",
        "accelerator = 'cu80' if path.exists('/opt/bin/nvidia-smi') else 'cpu'\n",
        "\n",
        "!pip install -q http://download.pytorch.org/whl/{accelerator}/torch-0.4.0-{platform}-linux_x86_64.whl torchvision"
      ],
      "execution_count": 0,
      "outputs": []
    },
    {
      "metadata": {
        "id": "ICFY198fy-n7",
        "colab_type": "code",
        "colab": {}
      },
      "cell_type": "code",
      "source": [
        "import torch\n",
        "import numpy as np"
      ],
      "execution_count": 0,
      "outputs": []
    },
    {
      "metadata": {
        "id": "WCb95LOxzAmn",
        "colab_type": "code",
        "colab": {}
      },
      "cell_type": "code",
      "source": [
        "# Sigmoid\n",
        "def activation(x):\n",
        "  return 1 / (1 + torch.exp(-x))"
      ],
      "execution_count": 0,
      "outputs": []
    },
    {
      "metadata": {
        "id": "FlBhUmuozatF",
        "colab_type": "code",
        "colab": {}
      },
      "cell_type": "code",
      "source": [
        "# Generate some data\n",
        "torch.manual_seed(7)\n",
        "\n",
        "# Features, 5 random variables\n",
        "features = torch.randn((1, 5))\n",
        "\n",
        "# random weights\n",
        "weights = torch.randn_like(features)\n",
        "\n",
        "bias = torch.randn((1, 1))\n"
      ],
      "execution_count": 0,
      "outputs": []
    },
    {
      "metadata": {
        "id": "ncgMdYKk0Q20",
        "colab_type": "code",
        "colab": {
          "base_uri": "https://localhost:8080/",
          "height": 33
        },
        "outputId": "740773e6-1eb3-498f-e519-9d9b530143d5"
      },
      "cell_type": "code",
      "source": [
        "# output\n",
        "y_hat = activation(torch.sum(features * weights) + bias)\n",
        "y_hat\n"
      ],
      "execution_count": 5,
      "outputs": [
        {
          "output_type": "execute_result",
          "data": {
            "text/plain": [
              "tensor([[ 0.1595]])"
            ]
          },
          "metadata": {
            "tags": []
          },
          "execution_count": 5
        }
      ]
    },
    {
      "metadata": {
        "id": "KYsfw7c1zoW7",
        "colab_type": "code",
        "colab": {
          "base_uri": "https://localhost:8080/",
          "height": 33
        },
        "outputId": "3ad115e5-69ab-41f1-9b23-77bc2ebf759e"
      },
      "cell_type": "code",
      "source": [
        "# calculate using matrix multiplication\n",
        "y_hat = activation(torch.mm(features, weights.view(5, 1)) + bias)\n",
        "y_hat\n"
      ],
      "execution_count": 6,
      "outputs": [
        {
          "output_type": "execute_result",
          "data": {
            "text/plain": [
              "tensor([[ 0.1595]])"
            ]
          },
          "metadata": {
            "tags": []
          },
          "execution_count": 6
        }
      ]
    },
    {
      "metadata": {
        "id": "7-NoZHcazzwz",
        "colab_type": "code",
        "colab": {}
      },
      "cell_type": "code",
      "source": [
        "## Multi-layer neural network"
      ],
      "execution_count": 0,
      "outputs": []
    },
    {
      "metadata": {
        "id": "F_K4CdsG3Mmg",
        "colab_type": "code",
        "colab": {}
      },
      "cell_type": "code",
      "source": [
        "# Generate some data\n",
        "torch.manual_seed(7)\n",
        "\n",
        "# features are 3 random variables\n",
        "features = torch.randn((1, 3))\n",
        "\n",
        "# Define the size of each layer in our network\n",
        "n_input = features.shape[1]  # number of input units\n",
        "n_hidden = 2  # number of hidden units\n",
        "n_output = 1  # number of output units\n",
        "\n",
        "# Weights for inputs to hidden layer\n",
        "w1 = torch.randn(n_input, n_hidden)\n",
        "\n",
        "# Weights for hidden to output layer\n",
        "w2 = torch.randn(n_hidden, n_output)\n",
        "\n",
        "# bias terms for hidden to output\n",
        "b1 = torch.randn((1, n_hidden))\n",
        "b2 = torch.randn((1, n_output))"
      ],
      "execution_count": 0,
      "outputs": []
    },
    {
      "metadata": {
        "id": "usHPQbyE5Ugk",
        "colab_type": "code",
        "colab": {
          "base_uri": "https://localhost:8080/",
          "height": 33
        },
        "outputId": "dc6c0c42-9018-4348-fbfe-7f25d3aa5d77"
      },
      "cell_type": "code",
      "source": [
        "# Calculate the output for multi-layer neural network\n",
        "\n",
        "h = activation(torch.mm(features, w1) + b1)\n",
        "\n",
        "y_hat = activation(torch.mm(h, w2) + b2)\n",
        "y_hat"
      ],
      "execution_count": 9,
      "outputs": [
        {
          "output_type": "execute_result",
          "data": {
            "text/plain": [
              "tensor([[ 0.3171]])"
            ]
          },
          "metadata": {
            "tags": []
          },
          "execution_count": 9
        }
      ]
    },
    {
      "metadata": {
        "id": "tNxdSDIN5WNE",
        "colab_type": "code",
        "colab": {}
      },
      "cell_type": "code",
      "source": [
        "## Numpy to Torch and back "
      ],
      "execution_count": 0,
      "outputs": []
    },
    {
      "metadata": {
        "id": "IcsC0ao97J6j",
        "colab_type": "code",
        "colab": {
          "base_uri": "https://localhost:8080/",
          "height": 82
        },
        "outputId": "cacc34d4-c3b4-4398-ead2-68e6a6bdc8d5"
      },
      "cell_type": "code",
      "source": [
        "a = np.random.rand(4, 3)\n",
        "a"
      ],
      "execution_count": 11,
      "outputs": [
        {
          "output_type": "execute_result",
          "data": {
            "text/plain": [
              "array([[0.02132064, 0.8194808 , 0.1970562 ],\n",
              "       [0.89043176, 0.78969421, 0.3905835 ],\n",
              "       [0.19445186, 0.6277504 , 0.8746853 ],\n",
              "       [0.46627941, 0.00410953, 0.42500229]])"
            ]
          },
          "metadata": {
            "tags": []
          },
          "execution_count": 11
        }
      ]
    },
    {
      "metadata": {
        "id": "niwckY_G9IaR",
        "colab_type": "code",
        "colab": {
          "base_uri": "https://localhost:8080/",
          "height": 82
        },
        "outputId": "d1d24b7f-a8cf-486c-ea7d-636be8fb8ca0"
      },
      "cell_type": "code",
      "source": [
        "b = torch.from_numpy(a)\n",
        "b"
      ],
      "execution_count": 12,
      "outputs": [
        {
          "output_type": "execute_result",
          "data": {
            "text/plain": [
              "tensor([[ 0.0213,  0.8195,  0.1971],\n",
              "        [ 0.8904,  0.7897,  0.3906],\n",
              "        [ 0.1945,  0.6278,  0.8747],\n",
              "        [ 0.4663,  0.0041,  0.4250]], dtype=torch.float64)"
            ]
          },
          "metadata": {
            "tags": []
          },
          "execution_count": 12
        }
      ]
    },
    {
      "metadata": {
        "id": "ILjjahem9SiU",
        "colab_type": "code",
        "colab": {
          "base_uri": "https://localhost:8080/",
          "height": 82
        },
        "outputId": "40c48075-4c8c-4eea-acde-9cd5cf1610eb"
      },
      "cell_type": "code",
      "source": [
        "b.numpy()"
      ],
      "execution_count": 13,
      "outputs": [
        {
          "output_type": "execute_result",
          "data": {
            "text/plain": [
              "array([[0.02132064, 0.8194808 , 0.1970562 ],\n",
              "       [0.89043176, 0.78969421, 0.3905835 ],\n",
              "       [0.19445186, 0.6277504 , 0.8746853 ],\n",
              "       [0.46627941, 0.00410953, 0.42500229]])"
            ]
          },
          "metadata": {
            "tags": []
          },
          "execution_count": 13
        }
      ]
    },
    {
      "metadata": {
        "id": "-S0osFFY9UqV",
        "colab_type": "code",
        "colab": {
          "base_uri": "https://localhost:8080/",
          "height": 82
        },
        "outputId": "9546803c-8837-402d-f3c2-4463eed590d4"
      },
      "cell_type": "code",
      "source": [
        "b.mul_(2)"
      ],
      "execution_count": 14,
      "outputs": [
        {
          "output_type": "execute_result",
          "data": {
            "text/plain": [
              "tensor([[ 0.0426,  1.6390,  0.3941],\n",
              "        [ 1.7809,  1.5794,  0.7812],\n",
              "        [ 0.3889,  1.2555,  1.7494],\n",
              "        [ 0.9326,  0.0082,  0.8500]], dtype=torch.float64)"
            ]
          },
          "metadata": {
            "tags": []
          },
          "execution_count": 14
        }
      ]
    },
    {
      "metadata": {
        "id": "8xJ49VX_-J3S",
        "colab_type": "code",
        "colab": {
          "base_uri": "https://localhost:8080/",
          "height": 82
        },
        "outputId": "ef8abd19-6867-4c55-c4d6-3556c538c147"
      },
      "cell_type": "code",
      "source": [
        "a"
      ],
      "execution_count": 15,
      "outputs": [
        {
          "output_type": "execute_result",
          "data": {
            "text/plain": [
              "array([[0.04264129, 1.63896161, 0.39411241],\n",
              "       [1.78086353, 1.57938843, 0.781167  ],\n",
              "       [0.38890372, 1.2555008 , 1.74937061],\n",
              "       [0.93255883, 0.00821907, 0.85000457]])"
            ]
          },
          "metadata": {
            "tags": []
          },
          "execution_count": 15
        }
      ]
    },
    {
      "metadata": {
        "id": "977FvJ6i-Kir",
        "colab_type": "code",
        "colab": {}
      },
      "cell_type": "code",
      "source": [
        ""
      ],
      "execution_count": 0,
      "outputs": []
    },
    {
      "metadata": {
        "id": "HZam85oW-Ulk",
        "colab_type": "code",
        "colab": {}
      },
      "cell_type": "code",
      "source": [
        ""
      ],
      "execution_count": 0,
      "outputs": []
    },
    {
      "metadata": {
        "id": "kLlnSPrV-V6N",
        "colab_type": "code",
        "colab": {}
      },
      "cell_type": "code",
      "source": [
        ""
      ],
      "execution_count": 0,
      "outputs": []
    }
  ]
}